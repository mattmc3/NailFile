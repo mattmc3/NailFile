{
 "metadata": {
  "name": "",
  "signature": "sha256:33899eed027fc29aef7598bf46e3f8f3b7f28940f9389188cc2cd4a6b40dcf35"
 },
 "nbformat": 3,
 "nbformat_minor": 0,
 "worksheets": [
  {
   "cells": [
    {
     "cell_type": "markdown",
     "metadata": {},
     "source": [
      "NDC File Exploration with NailFile\n",
      "==================================\n",
      "\n",
      "This notebook explores the National Drug Code file from FDA.gov. The zip file was\n",
      "last available [here](http://www.fda.gov/drugs/informationondrugs/ucm142438.htm).\n",
      "\n",
      "In order to run this example, download the NDC.zip file and put product.txt in the\n",
      "same folder as this notebook."
     ]
    },
    {
     "cell_type": "code",
     "collapsed": false,
     "input": [
      "# imports\n",
      "import sys\n",
      "sys.path.append('..')\n",
      "from IPython.display import HTML\n",
      "from nailfile import readers\n",
      "from nailfile import nailfile"
     ],
     "language": "python",
     "metadata": {},
     "outputs": [],
     "prompt_number": 1
    },
    {
     "cell_type": "code",
     "collapsed": false,
     "input": [
      "# run this to load the file into an in-memory SQLite database\n",
      "reader = readers.CsvReader('product.txt', table_name='products', delimiter='\\t')\n",
      "loader = nailfile.DataLoader()\n",
      "ds = loader.load(reader)"
     ],
     "language": "python",
     "metadata": {},
     "outputs": [],
     "prompt_number": 2
    },
    {
     "cell_type": "code",
     "collapsed": false,
     "input": [
      "# query away!\n",
      "# get the top drug manufacturers\n",
      "sql = \"\"\"\n",
      "select LABELERNAME, count(*) from products group by LABELERNAME order by 2 desc limit 10\n",
      "\"\"\"\n",
      "results = ds.fetchall(sql)\n",
      "h = HTML(nailfile.to_html(results))\n",
      "h"
     ],
     "language": "python",
     "metadata": {},
     "outputs": [
      {
       "html": [
        "<table>\n",
        "<tr><th>LABELERNAME</th><th>count(*)</th></tr>\n",
        "<tr><td>Nelco&nbsp;Laboratories,&nbsp;Inc.</td><td>2362</td></tr>\n",
        "<tr><td>REMEDYREPACK&nbsp;INC.</td><td>2248</td></tr>\n",
        "<tr><td>Cardinal&nbsp;Health</td><td>1847</td></tr>\n",
        "<tr><td>Physicians&nbsp;Total&nbsp;Care,&nbsp;Inc.</td><td>1789</td></tr>\n",
        "<tr><td>ALK-Abello,&nbsp;Inc.</td><td>972</td></tr>\n",
        "<tr><td>Antigen&nbsp;Laboratories,&nbsp;Inc.</td><td>896</td></tr>\n",
        "<tr><td>Rebel&nbsp;Distributors&nbsp;Corp</td><td>865</td></tr>\n",
        "<tr><td>PD-Rx&nbsp;Pharmaceuticals,&nbsp;Inc.</td><td>793</td></tr>\n",
        "<tr><td>Mylan&nbsp;Pharmaceuticals&nbsp;Inc.</td><td>788</td></tr>\n",
        "<tr><td>Bryant&nbsp;Ranch&nbsp;Prepack</td><td>746</td></tr>\n",
        "</table>"
       ],
       "metadata": {},
       "output_type": "pyout",
       "prompt_number": 3,
       "text": [
        "<IPython.core.display.HTML at 0x102b54550>"
       ]
      }
     ],
     "prompt_number": 3
    },
    {
     "cell_type": "code",
     "collapsed": false,
     "input": [],
     "language": "python",
     "metadata": {},
     "outputs": []
    }
   ],
   "metadata": {}
  }
 ]
}